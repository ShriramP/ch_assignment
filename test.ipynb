{
 "cells": [
  {
   "cell_type": "code",
   "execution_count": 94,
   "metadata": {},
   "outputs": [
    {
     "name": "stderr",
     "output_type": "stream",
     "text": [
      "Traceback (most recent call last):\n",
      "  File \"C:\\Users\\Admin\\AppData\\Local\\Programs\\Python\\Python36\\lib\\site-packages\\matplotlib\\cbook\\__init__.py\", line 215, in process\n",
      "    func(*args, **kwargs)\n",
      "  File \"C:\\Users\\Admin\\AppData\\Local\\Programs\\Python\\Python36\\lib\\site-packages\\matplotlib\\animation.py\", line 1478, in _stop\n",
      "    self.event_source.remove_callback(self._loop_delay)\n",
      "AttributeError: 'NoneType' object has no attribute 'remove_callback'\n",
      "2020-05-22 13:58:22 DESKTOP-F7HNRJU matplotlib.pyplot[18404] DEBUG Loaded backend nbAgg version unknown.\n"
     ]
    }
   ],
   "source": [
    "%matplotlib notebook\n",
    "import lxml.html as lh\n",
    "import time\n",
    "import urllib.request\n",
    "import datetime\n",
    "import pytz\n",
    "from selenium import webdriver\n",
    "from selenium.common.exceptions import StaleElementReferenceException\n",
    "import os\n",
    "import coloredlogs\n",
    "import matplotlib.pyplot as plt\n",
    "from matplotlib.animation import FuncAnimation\n",
    "import pandas as pd\n",
    "import csv\n"
   ]
  },
  {
   "cell_type": "code",
   "execution_count": 95,
   "metadata": {},
   "outputs": [],
   "source": [
    "from docopt import docopt\n",
    "from trading_bot.ops import get_state\n",
    "from trading_bot.agent import Agent\n",
    "from trading_bot.methods import evaluate_model\n",
    "from trading_bot.utils import (\n",
    "    get_stock_data,\n",
    "    format_currency,\n",
    "    format_position,\n",
    "    show_eval_result,\n",
    "    switch_k_backend_device\n",
    ")"
   ]
  },
  {
   "cell_type": "code",
   "execution_count": 96,
   "metadata": {},
   "outputs": [],
   "source": [
    "tz = pytz.timezone('Asia/Kolkata')"
   ]
  },
  {
   "cell_type": "code",
   "execution_count": 97,
   "metadata": {},
   "outputs": [],
   "source": [
    "path1 = os.getcwd()\n",
    "path = path1 + '/chromedriver'"
   ]
  },
  {
   "cell_type": "code",
   "execution_count": 98,
   "metadata": {},
   "outputs": [
    {
     "name": "stderr",
     "output_type": "stream",
     "text": [
      "2020-05-22 13:58:26 DESKTOP-F7HNRJU selenium.webdriver.remote.remote_connection[18404] DEBUG POST http://127.0.0.1:63660/session {\"capabilities\": {\"firstMatch\": [{}], \"alwaysMatch\": {\"browserName\": \"chrome\", \"platformName\": \"any\", \"goog:chromeOptions\": {\"excludeSwitches\": [\"enable-logging\"], \"extensions\": [], \"args\": [\"--no-sandbox\", \"--disable-dev-shm-usage\", \"--headless\"]}}}, \"desiredCapabilities\": {\"browserName\": \"chrome\", \"version\": \"\", \"platform\": \"ANY\", \"goog:chromeOptions\": {\"excludeSwitches\": [\"enable-logging\"], \"extensions\": [], \"args\": [\"--no-sandbox\", \"--disable-dev-shm-usage\", \"--headless\"]}}}\n",
      "2020-05-22 13:58:26 DESKTOP-F7HNRJU urllib3.connectionpool[18404] DEBUG Starting new HTTP connection (1): 127.0.0.1:63660\n",
      "2020-05-22 13:58:27 DESKTOP-F7HNRJU urllib3.connectionpool[18404] DEBUG http://127.0.0.1:63660 \"POST /session HTTP/1.1\" 200 717\n",
      "2020-05-22 13:58:27 DESKTOP-F7HNRJU selenium.webdriver.remote.remote_connection[18404] DEBUG Finished Request\n"
     ]
    }
   ],
   "source": [
    "ignored_exceptions=(StaleElementReferenceException,)\n",
    "options = webdriver.ChromeOptions()\n",
    "options.add_argument('--no-sandbox')\n",
    "options.add_argument('--disable-dev-shm-usage')\n",
    "options.add_argument('--headless')\n",
    "options.add_experimental_option('excludeSwitches', ['enable-logging'])\n",
    "#options.add_argument(f'user-agent={userAgent}')\n",
    "driver = webdriver.Chrome(executable_path=path , options=options)"
   ]
  },
  {
   "cell_type": "code",
   "execution_count": 99,
   "metadata": {},
   "outputs": [],
   "source": [
    "def Real(url,count):\n",
    "    if count == 0:\n",
    "        \n",
    "        driver.get(url)\n",
    "        #print(driver)\n",
    "    else:\n",
    "        driver.refresh()\n",
    "        time.sleep(15)\n",
    "    infile = driver.page_source\n",
    "    doc = lh.fromstring(infile)\n",
    "    live = doc.xpath('/html/body/div[1]/div/div/div[1]/div/div[2]/div/div/div[4]/div/div/div/div[3]/div/div/span[1]')\n",
    "    live = float(live[0].text.replace(',',''))\n",
    "    return live "
   ]
  },
  {
   "cell_type": "code",
   "execution_count": 109,
   "metadata": {},
   "outputs": [],
   "source": [
    "def main(args):\n",
    "    count = 0\n",
    "    total_profit = 0\n",
    "    t=0\n",
    "    history = []\n",
    "    reward = 0\n",
    "    ticker = args + '.NS'\n",
    "    price = []\n",
    "    window_size =10\n",
    "    \n",
    "    time_now = datetime.datetime.now(tz).time()\n",
    "    while(datetime.time(9, 14, tzinfo=tz) < time_now < datetime.time(15, 31, tzinfo=tz)):\n",
    "        url = 'https://finance.yahoo.com/quote/{}?p={}&.tsrc=fin-srch'.format(ticker,ticker)\n",
    "        print(count)\n",
    "        live = Real(url,count)\n",
    "        current_time = time.ctime()[11:19]\n",
    "        live = Real(url,count)\n",
    "        # appending the data in csv\n",
    "        with open('data.csv','a') as f:\n",
    "            csv_writer = csv.DictWriter(f,fieldnames=['time','price'])\n",
    "            info = {\n",
    "                'time':current_time,\n",
    "                'price':live\n",
    "            }\n",
    "            csv_writer.writerow(info)\n",
    "            print(current_time,live)\n",
    "            live = Real(url,count)\n",
    "            current_time = time.ctime()[11:19]\n",
    "        time.sleep(0.1)\n",
    "    \n",
    "            \n",
    "        count+=1        \n",
    "        price.append(live)\n",
    "        if count < window_size:\n",
    "            continue\n",
    "        model_name='model_debug_50'  \n",
    "        print(live)\n",
    "        initial_offset = price[1] - price[0]\n",
    "        state = get_state(price, 0, window_size + 1)\n",
    "        next_state = get_state(price, t + 1, window_size + 1)\n",
    "        agent = Agent(state_size=window_size, pretrained=True, model_name=model_name)\n",
    "        agent.inventory = []\n",
    "        profit = evaluate_model(agent,state,next_state, price, t, total_profit, history, reward, window_size=window_size)\n",
    "        show_eval_result(model_name, profit, initial_offset)\n",
    "        t+=1\n",
    "        state = next_state\n",
    "def evaluate_model(agent, state, next_state, data, t, total_profit, history, reward, window_size, debug=False):\n",
    "  \n",
    "    print(t)\n",
    "        # select an action\n",
    "    action = agent.act(state, is_eval=True)\n",
    "\n",
    "        # BUY\n",
    "    if action == 1:\n",
    "        agent.inventory.append(data[t])\n",
    "        history.append((data[t], \"BUY\"))\n",
    "        if debug:\n",
    "            logging.debug(\"Buy at: {}\".format(format_currency(data[t])))\n",
    "\n",
    "        # SELL\n",
    "    elif action == 2 and len(agent.inventory) > 0:\n",
    "        bought_price = agent.inventory.pop(0)\n",
    "        delta = data[t] - bought_price\n",
    "        reward = delta #max(delta, 0)\n",
    "        total_profit += delta\n",
    "        history.append((data[t], \"SELL\"))\n",
    "        if debug:\n",
    "            logging.debug(\"Sell at: {} | Position: {}\".format(\n",
    "                    format_currency(data[t]), format_position(data[t] - bought_price)))\n",
    "        # HOLD\n",
    "    else:\n",
    "        history.append((data[t], \"HOLD\"))\n",
    "    agent.memory.append((state, action, reward, next_state))\n",
    "    return total_profit"
   ]
  },
  {
   "cell_type": "code",
   "execution_count": 112,
   "metadata": {
    "scrolled": true
   },
   "outputs": [
    {
     "name": "stdout",
     "output_type": "stream",
     "text": [
      "RELIANCE\n"
     ]
    },
    {
     "name": "stderr",
     "output_type": "stream",
     "text": [
      "2020-05-22 15:03:05 DESKTOP-F7HNRJU root[18404] DEBUG switching to TensorFlow for CPU\n"
     ]
    },
    {
     "name": "stdout",
     "output_type": "stream",
     "text": [
      "0\n"
     ]
    },
    {
     "name": "stderr",
     "output_type": "stream",
     "text": [
      "2020-05-22 15:03:05 DESKTOP-F7HNRJU selenium.webdriver.remote.remote_connection[18404] DEBUG POST http://127.0.0.1:63660/session/4bcd77050c76677fd921469331b32d1b/url {\"url\": \"https://finance.yahoo.com/quote/RELIANCE.NS?p=RELIANCE.NS&.tsrc=fin-srch\"}\n",
      "2020-05-22 15:03:08 DESKTOP-F7HNRJU urllib3.connectionpool[18404] DEBUG http://127.0.0.1:63660 \"POST /session/4bcd77050c76677fd921469331b32d1b/url HTTP/1.1\" 200 14\n",
      "2020-05-22 15:03:08 DESKTOP-F7HNRJU selenium.webdriver.remote.remote_connection[18404] DEBUG Finished Request\n",
      "2020-05-22 15:03:08 DESKTOP-F7HNRJU selenium.webdriver.remote.remote_connection[18404] DEBUG GET http://127.0.0.1:63660/session/4bcd77050c76677fd921469331b32d1b/source {}\n",
      "2020-05-22 15:03:08 DESKTOP-F7HNRJU urllib3.connectionpool[18404] DEBUG http://127.0.0.1:63660 \"GET /session/4bcd77050c76677fd921469331b32d1b/source HTTP/1.1\" 200 871174\n",
      "2020-05-22 15:03:09 DESKTOP-F7HNRJU selenium.webdriver.remote.remote_connection[18404] DEBUG Finished Request\n",
      "2020-05-22 15:03:09 DESKTOP-F7HNRJU selenium.webdriver.remote.remote_connection[18404] DEBUG POST http://127.0.0.1:63660/session/4bcd77050c76677fd921469331b32d1b/url {\"url\": \"https://finance.yahoo.com/quote/RELIANCE.NS?p=RELIANCE.NS&.tsrc=fin-srch\"}\n",
      "2020-05-22 15:03:10 DESKTOP-F7HNRJU urllib3.connectionpool[18404] DEBUG http://127.0.0.1:63660 \"POST /session/4bcd77050c76677fd921469331b32d1b/url HTTP/1.1\" 200 14\n",
      "2020-05-22 15:03:10 DESKTOP-F7HNRJU selenium.webdriver.remote.remote_connection[18404] DEBUG Finished Request\n",
      "2020-05-22 15:03:10 DESKTOP-F7HNRJU selenium.webdriver.remote.remote_connection[18404] DEBUG GET http://127.0.0.1:63660/session/4bcd77050c76677fd921469331b32d1b/source {}\n",
      "2020-05-22 15:03:11 DESKTOP-F7HNRJU urllib3.connectionpool[18404] DEBUG http://127.0.0.1:63660 \"GET /session/4bcd77050c76677fd921469331b32d1b/source HTTP/1.1\" 200 866371\n",
      "2020-05-22 15:03:11 DESKTOP-F7HNRJU selenium.webdriver.remote.remote_connection[18404] DEBUG Finished Request\n"
     ]
    },
    {
     "name": "stdout",
     "output_type": "stream",
     "text": [
      "15:03:09 1434.0\n"
     ]
    },
    {
     "name": "stderr",
     "output_type": "stream",
     "text": [
      "2020-05-22 15:03:11 DESKTOP-F7HNRJU selenium.webdriver.remote.remote_connection[18404] DEBUG POST http://127.0.0.1:63660/session/4bcd77050c76677fd921469331b32d1b/url {\"url\": \"https://finance.yahoo.com/quote/RELIANCE.NS?p=RELIANCE.NS&.tsrc=fin-srch\"}\n",
      "2020-05-22 15:03:15 DESKTOP-F7HNRJU urllib3.connectionpool[18404] DEBUG http://127.0.0.1:63660 \"POST /session/4bcd77050c76677fd921469331b32d1b/url HTTP/1.1\" 200 14\n",
      "2020-05-22 15:03:15 DESKTOP-F7HNRJU selenium.webdriver.remote.remote_connection[18404] DEBUG Finished Request\n",
      "2020-05-22 15:03:15 DESKTOP-F7HNRJU selenium.webdriver.remote.remote_connection[18404] DEBUG GET http://127.0.0.1:63660/session/4bcd77050c76677fd921469331b32d1b/source {}\n",
      "2020-05-22 15:03:16 DESKTOP-F7HNRJU urllib3.connectionpool[18404] DEBUG http://127.0.0.1:63660 \"GET /session/4bcd77050c76677fd921469331b32d1b/source HTTP/1.1\" 200 868880\n",
      "2020-05-22 15:03:16 DESKTOP-F7HNRJU selenium.webdriver.remote.remote_connection[18404] DEBUG Finished Request\n"
     ]
    },
    {
     "name": "stdout",
     "output_type": "stream",
     "text": [
      "1\n"
     ]
    },
    {
     "name": "stderr",
     "output_type": "stream",
     "text": [
      "2020-05-22 15:03:16 DESKTOP-F7HNRJU selenium.webdriver.remote.remote_connection[18404] DEBUG POST http://127.0.0.1:63660/session/4bcd77050c76677fd921469331b32d1b/refresh {}\n",
      "2020-05-22 15:03:20 DESKTOP-F7HNRJU urllib3.connectionpool[18404] DEBUG http://127.0.0.1:63660 \"POST /session/4bcd77050c76677fd921469331b32d1b/refresh HTTP/1.1\" 200 14\n",
      "2020-05-22 15:03:20 DESKTOP-F7HNRJU selenium.webdriver.remote.remote_connection[18404] DEBUG Finished Request\n"
     ]
    },
    {
     "name": "stdout",
     "output_type": "stream",
     "text": [
      "Aborted\n"
     ]
    }
   ],
   "source": [
    "# input is the ticker to pass to the main function \n",
    "#instead of argparse I have used input \n",
    "args = input()\n",
    "    \n",
    "coloredlogs.install(level=\"DEBUG\")\n",
    "switch_k_backend_device()\n",
    "with open('data.csv','a') as f:\n",
    "    csv_writer = csv.DictWriter(f,fieldnames=['time','price'])\n",
    "    csv_writer.writeheader()\n",
    "try:\n",
    "    main(args)\n",
    "except KeyboardInterrupt:\n",
    "    print(\"Aborted\")\n",
    "    #Destroying the csv file\n",
    "    os.remove('data.csv')\n"
   ]
  },
  {
   "cell_type": "markdown",
   "metadata": {},
   "source": [
    "# Visualization"
   ]
  },
  {
   "cell_type": "code",
   "execution_count": 113,
   "metadata": {},
   "outputs": [],
   "source": [
    "def graph(i):\n",
    "    with open('data.csv','a') as f:\n",
    "        csv_writer = csv.DictWriter(f,fieldnames=['time','price'])\n",
    "        csv_writer.writeheader()\n",
    "    df = pd.read_csv('data.csv')\n",
    "    x=df['time']\n",
    "    y=df['price']\n",
    "\n",
    "    plt.clf()\n",
    "    plt.plot(x,y,label = '1')\n",
    "g = FuncAnimation(plt.gcf(),graph,interval = 1000)\n",
    "plt.tight_layout()\n",
    "plt.show()"
   ]
  },
  {
   "cell_type": "code",
   "execution_count": 114,
   "metadata": {},
   "outputs": [],
   "source": [
    "    "
   ]
  },
  {
   "cell_type": "code",
   "execution_count": null,
   "metadata": {},
   "outputs": [],
   "source": []
  }
 ],
 "metadata": {
  "kernelspec": {
   "display_name": "Python 3",
   "language": "python",
   "name": "python3"
  },
  "language_info": {
   "codemirror_mode": {
    "name": "ipython",
    "version": 3
   },
   "file_extension": ".py",
   "mimetype": "text/x-python",
   "name": "python",
   "nbconvert_exporter": "python",
   "pygments_lexer": "ipython3",
   "version": "3.6.8"
  }
 },
 "nbformat": 4,
 "nbformat_minor": 2
}
